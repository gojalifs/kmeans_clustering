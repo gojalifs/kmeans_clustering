{
  "nbformat": 4,
  "nbformat_minor": 0,
  "metadata": {
    "colab": {
      "provenance": [],
      "authorship_tag": "ABX9TyOTscMk9I9m+9NRdNmhW8iV",
      "include_colab_link": true
    },
    "kernelspec": {
      "name": "python3",
      "display_name": "Python 3"
    },
    "language_info": {
      "name": "python"
    }
  },
  "cells": [
    {
      "cell_type": "markdown",
      "metadata": {
        "id": "view-in-github",
        "colab_type": "text"
      },
      "source": [
        "<a href=\"https://colab.research.google.com/github/gojalifs/kmeans_clustering/blob/master/Elbow_Method.ipynb\" target=\"_parent\"><img src=\"https://colab.research.google.com/assets/colab-badge.svg\" alt=\"Open In Colab\"/></a>"
      ]
    },
    {
      "cell_type": "code",
      "execution_count": null,
      "metadata": {
        "colab": {
          "base_uri": "https://localhost:8080/"
        },
        "id": "zabIF5PIvH8z",
        "outputId": "559b1209-9271-4eec-b1f9-15ab692a7849"
      },
      "outputs": [
        {
          "output_type": "stream",
          "name": "stdout",
          "text": [
            "Collecting kneed\n",
            "  Downloading kneed-0.8.5-py3-none-any.whl.metadata (5.5 kB)\n",
            "Requirement already satisfied: numpy>=1.14.2 in /usr/local/lib/python3.11/dist-packages (from kneed) (2.0.2)\n",
            "Requirement already satisfied: scipy>=1.0.0 in /usr/local/lib/python3.11/dist-packages (from kneed) (1.15.3)\n",
            "Downloading kneed-0.8.5-py3-none-any.whl (10 kB)\n",
            "Installing collected packages: kneed\n",
            "Successfully installed kneed-0.8.5\n"
          ]
        }
      ],
      "source": [
        "# Step 1: Upload file\n",
        "from google.colab import files\n",
        "import pandas as pd\n",
        "!pip install kneed"
      ]
    },
    {
      "cell_type": "code",
      "source": [
        "\n",
        "# Step 2: Baca CSV\n",
        "df = pd.read_excel('dataset.xlsx')\n",
        "\n",
        "# Tampilkan data awal\n",
        "print(\"\\nData sample:\")\n",
        "df.head()\n"
      ],
      "metadata": {
        "colab": {
          "base_uri": "https://localhost:8080/",
          "height": 328
        },
        "id": "rFUvrl8hviMb",
        "outputId": "666764e3-a830-439e-f71b-1fc2da6d9cfb"
      },
      "execution_count": null,
      "outputs": [
        {
          "output_type": "stream",
          "name": "stdout",
          "text": [
            "\n",
            "Data sample:\n"
          ]
        },
        {
          "output_type": "execute_result",
          "data": {
            "text/plain": [
              "         name                      album    artist release_date  length  \\\n",
              "0      Klaxon                     I SWAY  (G)I-DLE   2024-07-08   0.294   \n",
              "1      Arteri  Membangun & Menghancurkan    .Feast   2024-08-30   0.476   \n",
              "2  Metakritik  Membangun & Menghancurkan    .Feast   2024-08-30   0.402   \n",
              "3        Nina  Membangun & Menghancurkan    .Feast   2024-08-30   0.491   \n",
              "4      o,Tuan  Membangun & Menghancurkan    .Feast   2024-08-30   0.545   \n",
              "\n",
              "   danceability  acousticness  energy  instrumentalness  liveness  loudness  \\\n",
              "0         0.893         0.133   0.880             0.000     0.312     0.744   \n",
              "1         0.213         0.009   0.925             0.000     0.048     0.748   \n",
              "2         0.433         0.000   0.917             0.001     0.064     0.674   \n",
              "3         0.373         0.187   0.603             0.454     0.067     0.641   \n",
              "4         0.460         0.057   0.600             0.127     0.051     0.565   \n",
              "\n",
              "   speechiness  tempo  valence  time_signature  \n",
              "0        0.245  0.439    0.814            0.75  \n",
              "1        0.124  0.849    0.259            0.75  \n",
              "2        0.034  0.591    0.643            0.75  \n",
              "3        0.006  0.242    0.337            0.75  \n",
              "4        0.009  0.512    0.228            0.75  "
            ],
            "text/html": [
              "\n",
              "  <div id=\"df-43a3f06d-89e3-4963-a554-6cb91b141a2a\" class=\"colab-df-container\">\n",
              "    <div>\n",
              "<style scoped>\n",
              "    .dataframe tbody tr th:only-of-type {\n",
              "        vertical-align: middle;\n",
              "    }\n",
              "\n",
              "    .dataframe tbody tr th {\n",
              "        vertical-align: top;\n",
              "    }\n",
              "\n",
              "    .dataframe thead th {\n",
              "        text-align: right;\n",
              "    }\n",
              "</style>\n",
              "<table border=\"1\" class=\"dataframe\">\n",
              "  <thead>\n",
              "    <tr style=\"text-align: right;\">\n",
              "      <th></th>\n",
              "      <th>name</th>\n",
              "      <th>album</th>\n",
              "      <th>artist</th>\n",
              "      <th>release_date</th>\n",
              "      <th>length</th>\n",
              "      <th>danceability</th>\n",
              "      <th>acousticness</th>\n",
              "      <th>energy</th>\n",
              "      <th>instrumentalness</th>\n",
              "      <th>liveness</th>\n",
              "      <th>loudness</th>\n",
              "      <th>speechiness</th>\n",
              "      <th>tempo</th>\n",
              "      <th>valence</th>\n",
              "      <th>time_signature</th>\n",
              "    </tr>\n",
              "  </thead>\n",
              "  <tbody>\n",
              "    <tr>\n",
              "      <th>0</th>\n",
              "      <td>Klaxon</td>\n",
              "      <td>I SWAY</td>\n",
              "      <td>(G)I-DLE</td>\n",
              "      <td>2024-07-08</td>\n",
              "      <td>0.294</td>\n",
              "      <td>0.893</td>\n",
              "      <td>0.133</td>\n",
              "      <td>0.880</td>\n",
              "      <td>0.000</td>\n",
              "      <td>0.312</td>\n",
              "      <td>0.744</td>\n",
              "      <td>0.245</td>\n",
              "      <td>0.439</td>\n",
              "      <td>0.814</td>\n",
              "      <td>0.75</td>\n",
              "    </tr>\n",
              "    <tr>\n",
              "      <th>1</th>\n",
              "      <td>Arteri</td>\n",
              "      <td>Membangun &amp; Menghancurkan</td>\n",
              "      <td>.Feast</td>\n",
              "      <td>2024-08-30</td>\n",
              "      <td>0.476</td>\n",
              "      <td>0.213</td>\n",
              "      <td>0.009</td>\n",
              "      <td>0.925</td>\n",
              "      <td>0.000</td>\n",
              "      <td>0.048</td>\n",
              "      <td>0.748</td>\n",
              "      <td>0.124</td>\n",
              "      <td>0.849</td>\n",
              "      <td>0.259</td>\n",
              "      <td>0.75</td>\n",
              "    </tr>\n",
              "    <tr>\n",
              "      <th>2</th>\n",
              "      <td>Metakritik</td>\n",
              "      <td>Membangun &amp; Menghancurkan</td>\n",
              "      <td>.Feast</td>\n",
              "      <td>2024-08-30</td>\n",
              "      <td>0.402</td>\n",
              "      <td>0.433</td>\n",
              "      <td>0.000</td>\n",
              "      <td>0.917</td>\n",
              "      <td>0.001</td>\n",
              "      <td>0.064</td>\n",
              "      <td>0.674</td>\n",
              "      <td>0.034</td>\n",
              "      <td>0.591</td>\n",
              "      <td>0.643</td>\n",
              "      <td>0.75</td>\n",
              "    </tr>\n",
              "    <tr>\n",
              "      <th>3</th>\n",
              "      <td>Nina</td>\n",
              "      <td>Membangun &amp; Menghancurkan</td>\n",
              "      <td>.Feast</td>\n",
              "      <td>2024-08-30</td>\n",
              "      <td>0.491</td>\n",
              "      <td>0.373</td>\n",
              "      <td>0.187</td>\n",
              "      <td>0.603</td>\n",
              "      <td>0.454</td>\n",
              "      <td>0.067</td>\n",
              "      <td>0.641</td>\n",
              "      <td>0.006</td>\n",
              "      <td>0.242</td>\n",
              "      <td>0.337</td>\n",
              "      <td>0.75</td>\n",
              "    </tr>\n",
              "    <tr>\n",
              "      <th>4</th>\n",
              "      <td>o,Tuan</td>\n",
              "      <td>Membangun &amp; Menghancurkan</td>\n",
              "      <td>.Feast</td>\n",
              "      <td>2024-08-30</td>\n",
              "      <td>0.545</td>\n",
              "      <td>0.460</td>\n",
              "      <td>0.057</td>\n",
              "      <td>0.600</td>\n",
              "      <td>0.127</td>\n",
              "      <td>0.051</td>\n",
              "      <td>0.565</td>\n",
              "      <td>0.009</td>\n",
              "      <td>0.512</td>\n",
              "      <td>0.228</td>\n",
              "      <td>0.75</td>\n",
              "    </tr>\n",
              "  </tbody>\n",
              "</table>\n",
              "</div>\n",
              "    <div class=\"colab-df-buttons\">\n",
              "\n",
              "  <div class=\"colab-df-container\">\n",
              "    <button class=\"colab-df-convert\" onclick=\"convertToInteractive('df-43a3f06d-89e3-4963-a554-6cb91b141a2a')\"\n",
              "            title=\"Convert this dataframe to an interactive table.\"\n",
              "            style=\"display:none;\">\n",
              "\n",
              "  <svg xmlns=\"http://www.w3.org/2000/svg\" height=\"24px\" viewBox=\"0 -960 960 960\">\n",
              "    <path d=\"M120-120v-720h720v720H120Zm60-500h600v-160H180v160Zm220 220h160v-160H400v160Zm0 220h160v-160H400v160ZM180-400h160v-160H180v160Zm440 0h160v-160H620v160ZM180-180h160v-160H180v160Zm440 0h160v-160H620v160Z\"/>\n",
              "  </svg>\n",
              "    </button>\n",
              "\n",
              "  <style>\n",
              "    .colab-df-container {\n",
              "      display:flex;\n",
              "      gap: 12px;\n",
              "    }\n",
              "\n",
              "    .colab-df-convert {\n",
              "      background-color: #E8F0FE;\n",
              "      border: none;\n",
              "      border-radius: 50%;\n",
              "      cursor: pointer;\n",
              "      display: none;\n",
              "      fill: #1967D2;\n",
              "      height: 32px;\n",
              "      padding: 0 0 0 0;\n",
              "      width: 32px;\n",
              "    }\n",
              "\n",
              "    .colab-df-convert:hover {\n",
              "      background-color: #E2EBFA;\n",
              "      box-shadow: 0px 1px 2px rgba(60, 64, 67, 0.3), 0px 1px 3px 1px rgba(60, 64, 67, 0.15);\n",
              "      fill: #174EA6;\n",
              "    }\n",
              "\n",
              "    .colab-df-buttons div {\n",
              "      margin-bottom: 4px;\n",
              "    }\n",
              "\n",
              "    [theme=dark] .colab-df-convert {\n",
              "      background-color: #3B4455;\n",
              "      fill: #D2E3FC;\n",
              "    }\n",
              "\n",
              "    [theme=dark] .colab-df-convert:hover {\n",
              "      background-color: #434B5C;\n",
              "      box-shadow: 0px 1px 3px 1px rgba(0, 0, 0, 0.15);\n",
              "      filter: drop-shadow(0px 1px 2px rgba(0, 0, 0, 0.3));\n",
              "      fill: #FFFFFF;\n",
              "    }\n",
              "  </style>\n",
              "\n",
              "    <script>\n",
              "      const buttonEl =\n",
              "        document.querySelector('#df-43a3f06d-89e3-4963-a554-6cb91b141a2a button.colab-df-convert');\n",
              "      buttonEl.style.display =\n",
              "        google.colab.kernel.accessAllowed ? 'block' : 'none';\n",
              "\n",
              "      async function convertToInteractive(key) {\n",
              "        const element = document.querySelector('#df-43a3f06d-89e3-4963-a554-6cb91b141a2a');\n",
              "        const dataTable =\n",
              "          await google.colab.kernel.invokeFunction('convertToInteractive',\n",
              "                                                    [key], {});\n",
              "        if (!dataTable) return;\n",
              "\n",
              "        const docLinkHtml = 'Like what you see? Visit the ' +\n",
              "          '<a target=\"_blank\" href=https://colab.research.google.com/notebooks/data_table.ipynb>data table notebook</a>'\n",
              "          + ' to learn more about interactive tables.';\n",
              "        element.innerHTML = '';\n",
              "        dataTable['output_type'] = 'display_data';\n",
              "        await google.colab.output.renderOutput(dataTable, element);\n",
              "        const docLink = document.createElement('div');\n",
              "        docLink.innerHTML = docLinkHtml;\n",
              "        element.appendChild(docLink);\n",
              "      }\n",
              "    </script>\n",
              "  </div>\n",
              "\n",
              "\n",
              "    <div id=\"df-ee65ffde-ec23-42c0-b28f-66d493c72b1a\">\n",
              "      <button class=\"colab-df-quickchart\" onclick=\"quickchart('df-ee65ffde-ec23-42c0-b28f-66d493c72b1a')\"\n",
              "                title=\"Suggest charts\"\n",
              "                style=\"display:none;\">\n",
              "\n",
              "<svg xmlns=\"http://www.w3.org/2000/svg\" height=\"24px\"viewBox=\"0 0 24 24\"\n",
              "     width=\"24px\">\n",
              "    <g>\n",
              "        <path d=\"M19 3H5c-1.1 0-2 .9-2 2v14c0 1.1.9 2 2 2h14c1.1 0 2-.9 2-2V5c0-1.1-.9-2-2-2zM9 17H7v-7h2v7zm4 0h-2V7h2v10zm4 0h-2v-4h2v4z\"/>\n",
              "    </g>\n",
              "</svg>\n",
              "      </button>\n",
              "\n",
              "<style>\n",
              "  .colab-df-quickchart {\n",
              "      --bg-color: #E8F0FE;\n",
              "      --fill-color: #1967D2;\n",
              "      --hover-bg-color: #E2EBFA;\n",
              "      --hover-fill-color: #174EA6;\n",
              "      --disabled-fill-color: #AAA;\n",
              "      --disabled-bg-color: #DDD;\n",
              "  }\n",
              "\n",
              "  [theme=dark] .colab-df-quickchart {\n",
              "      --bg-color: #3B4455;\n",
              "      --fill-color: #D2E3FC;\n",
              "      --hover-bg-color: #434B5C;\n",
              "      --hover-fill-color: #FFFFFF;\n",
              "      --disabled-bg-color: #3B4455;\n",
              "      --disabled-fill-color: #666;\n",
              "  }\n",
              "\n",
              "  .colab-df-quickchart {\n",
              "    background-color: var(--bg-color);\n",
              "    border: none;\n",
              "    border-radius: 50%;\n",
              "    cursor: pointer;\n",
              "    display: none;\n",
              "    fill: var(--fill-color);\n",
              "    height: 32px;\n",
              "    padding: 0;\n",
              "    width: 32px;\n",
              "  }\n",
              "\n",
              "  .colab-df-quickchart:hover {\n",
              "    background-color: var(--hover-bg-color);\n",
              "    box-shadow: 0 1px 2px rgba(60, 64, 67, 0.3), 0 1px 3px 1px rgba(60, 64, 67, 0.15);\n",
              "    fill: var(--button-hover-fill-color);\n",
              "  }\n",
              "\n",
              "  .colab-df-quickchart-complete:disabled,\n",
              "  .colab-df-quickchart-complete:disabled:hover {\n",
              "    background-color: var(--disabled-bg-color);\n",
              "    fill: var(--disabled-fill-color);\n",
              "    box-shadow: none;\n",
              "  }\n",
              "\n",
              "  .colab-df-spinner {\n",
              "    border: 2px solid var(--fill-color);\n",
              "    border-color: transparent;\n",
              "    border-bottom-color: var(--fill-color);\n",
              "    animation:\n",
              "      spin 1s steps(1) infinite;\n",
              "  }\n",
              "\n",
              "  @keyframes spin {\n",
              "    0% {\n",
              "      border-color: transparent;\n",
              "      border-bottom-color: var(--fill-color);\n",
              "      border-left-color: var(--fill-color);\n",
              "    }\n",
              "    20% {\n",
              "      border-color: transparent;\n",
              "      border-left-color: var(--fill-color);\n",
              "      border-top-color: var(--fill-color);\n",
              "    }\n",
              "    30% {\n",
              "      border-color: transparent;\n",
              "      border-left-color: var(--fill-color);\n",
              "      border-top-color: var(--fill-color);\n",
              "      border-right-color: var(--fill-color);\n",
              "    }\n",
              "    40% {\n",
              "      border-color: transparent;\n",
              "      border-right-color: var(--fill-color);\n",
              "      border-top-color: var(--fill-color);\n",
              "    }\n",
              "    60% {\n",
              "      border-color: transparent;\n",
              "      border-right-color: var(--fill-color);\n",
              "    }\n",
              "    80% {\n",
              "      border-color: transparent;\n",
              "      border-right-color: var(--fill-color);\n",
              "      border-bottom-color: var(--fill-color);\n",
              "    }\n",
              "    90% {\n",
              "      border-color: transparent;\n",
              "      border-bottom-color: var(--fill-color);\n",
              "    }\n",
              "  }\n",
              "</style>\n",
              "\n",
              "      <script>\n",
              "        async function quickchart(key) {\n",
              "          const quickchartButtonEl =\n",
              "            document.querySelector('#' + key + ' button');\n",
              "          quickchartButtonEl.disabled = true;  // To prevent multiple clicks.\n",
              "          quickchartButtonEl.classList.add('colab-df-spinner');\n",
              "          try {\n",
              "            const charts = await google.colab.kernel.invokeFunction(\n",
              "                'suggestCharts', [key], {});\n",
              "          } catch (error) {\n",
              "            console.error('Error during call to suggestCharts:', error);\n",
              "          }\n",
              "          quickchartButtonEl.classList.remove('colab-df-spinner');\n",
              "          quickchartButtonEl.classList.add('colab-df-quickchart-complete');\n",
              "        }\n",
              "        (() => {\n",
              "          let quickchartButtonEl =\n",
              "            document.querySelector('#df-ee65ffde-ec23-42c0-b28f-66d493c72b1a button');\n",
              "          quickchartButtonEl.style.display =\n",
              "            google.colab.kernel.accessAllowed ? 'block' : 'none';\n",
              "        })();\n",
              "      </script>\n",
              "    </div>\n",
              "\n",
              "    </div>\n",
              "  </div>\n"
            ],
            "application/vnd.google.colaboratory.intrinsic+json": {
              "type": "dataframe",
              "variable_name": "df",
              "summary": "{\n  \"name\": \"df\",\n  \"rows\": 700,\n  \"fields\": [\n    {\n      \"column\": \"name\",\n      \"properties\": {\n        \"dtype\": \"string\",\n        \"num_unique_values\": 693,\n        \"samples\": [\n          \"CRAZY\",\n          \"Run Away\",\n          \"Big Dawgs\"\n        ],\n        \"semantic_type\": \"\",\n        \"description\": \"\"\n      }\n    },\n    {\n      \"column\": \"album\",\n      \"properties\": {\n        \"dtype\": \"string\",\n        \"num_unique_values\": 413,\n        \"samples\": [\n          \"Bring Your Lungs (feat. Smoke DZA)\",\n          \"Reasonable Remixes 2\",\n          \"Cinderella at 2AM OST Part 4\"\n        ],\n        \"semantic_type\": \"\",\n        \"description\": \"\"\n      }\n    },\n    {\n      \"column\": \"artist\",\n      \"properties\": {\n        \"dtype\": \"category\",\n        \"num_unique_values\": 296,\n        \"samples\": [\n          \"Tyler, The Creator\",\n          \"Jung Kook\",\n          \"Elliot James Reay\"\n        ],\n        \"semantic_type\": \"\",\n        \"description\": \"\"\n      }\n    },\n    {\n      \"column\": \"release_date\",\n      \"properties\": {\n        \"dtype\": \"object\",\n        \"num_unique_values\": 185,\n        \"samples\": [\n          \"2024-04-20\",\n          \"2024-10-25\",\n          \"2024-10-14\"\n        ],\n        \"semantic_type\": \"\",\n        \"description\": \"\"\n      }\n    },\n    {\n      \"column\": \"length\",\n      \"properties\": {\n        \"dtype\": \"number\",\n        \"std\": 0.103126778492613,\n        \"min\": 0.0,\n        \"max\": 1.0,\n        \"num_unique_values\": 316,\n        \"samples\": [\n          0.433,\n          0.375,\n          0.266\n        ],\n        \"semantic_type\": \"\",\n        \"description\": \"\"\n      }\n    },\n    {\n      \"column\": \"danceability\",\n      \"properties\": {\n        \"dtype\": \"number\",\n        \"std\": 0.19479387431925946,\n        \"min\": 0.061,\n        \"max\": 1.0,\n        \"num_unique_values\": 422,\n        \"samples\": [\n          0.528,\n          0.831,\n          0.774\n        ],\n        \"semantic_type\": \"\",\n        \"description\": \"\"\n      }\n    },\n    {\n      \"column\": \"acousticness\",\n      \"properties\": {\n        \"dtype\": \"number\",\n        \"std\": 0.31648871454717714,\n        \"min\": 0.0,\n        \"max\": 1.0,\n        \"num_unique_values\": 443,\n        \"samples\": [\n          0.033,\n          0.989,\n          0.012\n        ],\n        \"semantic_type\": \"\",\n        \"description\": \"\"\n      }\n    },\n    {\n      \"column\": \"energy\",\n      \"properties\": {\n        \"dtype\": \"number\",\n        \"std\": 0.21971151495960575,\n        \"min\": 0.0,\n        \"max\": 0.994,\n        \"num_unique_values\": 463,\n        \"samples\": [\n          0.453,\n          0.754,\n          0.886\n        ],\n        \"semantic_type\": \"\",\n        \"description\": \"\"\n      }\n    },\n    {\n      \"column\": \"instrumentalness\",\n      \"properties\": {\n        \"dtype\": \"number\",\n        \"std\": 0.1412080952781488,\n        \"min\": 0.0,\n        \"max\": 0.984,\n        \"num_unique_values\": 84,\n        \"samples\": [\n          0.05,\n          0.0,\n          0.013\n        ],\n        \"semantic_type\": \"\",\n        \"description\": \"\"\n      }\n    },\n    {\n      \"column\": \"liveness\",\n      \"properties\": {\n        \"dtype\": \"number\",\n        \"std\": 0.13996419508716104,\n        \"min\": 0.0,\n        \"max\": 0.898,\n        \"num_unique_values\": 295,\n        \"samples\": [\n          0.036,\n          0.453,\n          0.039\n        ],\n        \"semantic_type\": \"\",\n        \"description\": \"\"\n      }\n    },\n    {\n      \"column\": \"loudness\",\n      \"properties\": {\n        \"dtype\": \"number\",\n        \"std\": 0.12149900059218957,\n        \"min\": 0.081,\n        \"max\": 0.968,\n        \"num_unique_values\": 354,\n        \"samples\": [\n          0.299,\n          0.588,\n          0.767\n        ],\n        \"semantic_type\": \"\",\n        \"description\": \"\"\n      }\n    },\n    {\n      \"column\": \"speechiness\",\n      \"properties\": {\n        \"dtype\": \"number\",\n        \"std\": 0.11149084814141859,\n        \"min\": 0.0,\n        \"max\": 0.824,\n        \"num_unique_values\": 199,\n        \"samples\": [\n          0.019,\n          0.036,\n          0.234\n        ],\n        \"semantic_type\": \"\",\n        \"description\": \"\"\n      }\n    },\n    {\n      \"column\": \"tempo\",\n      \"properties\": {\n        \"dtype\": \"number\",\n        \"std\": 0.18424901553087245,\n        \"min\": 0.0,\n        \"max\": 1.0,\n        \"num_unique_values\": 293,\n        \"samples\": [\n          0.869,\n          0.651,\n          0.809\n        ],\n        \"semantic_type\": \"\",\n        \"description\": \"\"\n      }\n    },\n    {\n      \"column\": \"valence\",\n      \"properties\": {\n        \"dtype\": \"number\",\n        \"std\": 0.23509142831432853,\n        \"min\": 0.0,\n        \"max\": 0.986,\n        \"num_unique_values\": 482,\n        \"samples\": [\n          0.575,\n          0.153,\n          0.62\n        ],\n        \"semantic_type\": \"\",\n        \"description\": \"\"\n      }\n    },\n    {\n      \"column\": \"time_signature\",\n      \"properties\": {\n        \"dtype\": \"number\",\n        \"std\": 0.07818040391887196,\n        \"min\": 0.0,\n        \"max\": 1.0,\n        \"num_unique_values\": 4,\n        \"samples\": [\n          0.5,\n          0.0,\n          0.75\n        ],\n        \"semantic_type\": \"\",\n        \"description\": \"\"\n      }\n    }\n  ]\n}"
            }
          },
          "metadata": {},
          "execution_count": 15
        }
      ]
    },
    {
      "cell_type": "code",
      "source": [
        "# Step 3: Pilih kolom\n",
        "print(\"\\nKolom tersedia:\")\n",
        "print(list(df.columns))\n",
        "\n",
        "# Input kolom yang ingin digunakan\n",
        "cols = input(\"\\nMasukkan nama kolom yang ingin digunakan untuk clustering (pisahkan dengan koma):\\nContoh: x,y\\n\").split(',')\n",
        "cols = [c.strip() for c in cols]\n",
        "\n",
        "# Ambil data numerik dan buang NaN\n",
        "data = df[cols].dropna()\n",
        "data_values = data.values"
      ],
      "metadata": {
        "colab": {
          "base_uri": "https://localhost:8080/"
        },
        "id": "yybDyeZavj18",
        "outputId": "88212ce8-17a3-455e-a717-6a0231b02a66"
      },
      "execution_count": null,
      "outputs": [
        {
          "name": "stdout",
          "output_type": "stream",
          "text": [
            "\n",
            "Kolom tersedia:\n",
            "['name', 'album', 'artist', 'release_date', 'length', 'danceability', 'acousticness', 'energy', 'instrumentalness', 'liveness', 'loudness', 'speechiness', 'tempo', 'valence', 'time_signature']\n",
            "\n",
            "Masukkan nama kolom yang ingin digunakan untuk clustering (pisahkan dengan koma):\n",
            "Contoh: x,y\n",
            "length,danceability,acousticness,energy,instrumentalness,liveness,loudness,speechiness,tempo,valence,time_signature\n"
          ]
        }
      ]
    },
    {
      "cell_type": "code",
      "source": [
        "# Step 4: Hitung WCSS\n",
        "from sklearn.cluster import KMeans\n",
        "import matplotlib.pyplot as plt\n",
        "from kneed import KneeLocator\n",
        "\n",
        "wcss = []\n",
        "K_range = range(1, 11)\n",
        "\n",
        "for k in K_range:\n",
        "    kmeans = KMeans(n_clusters=k, init='k-means++', random_state=42, n_init='auto')\n",
        "    kmeans.fit(data)\n",
        "    wcss.append(kmeans.inertia_)\n"
      ],
      "metadata": {
        "id": "iuwuSYh4vltP"
      },
      "execution_count": null,
      "outputs": []
    },
    {
      "cell_type": "code",
      "source": [
        "# Step 5: Tampilkan hasil\n",
        "print(\"\\nNilai WCSS untuk tiap K:\")\n",
        "for i, val in enumerate(wcss, start=1):\n",
        "    print(f\"K={i}: WCSS={val:.2f}\")\n"
      ],
      "metadata": {
        "colab": {
          "base_uri": "https://localhost:8080/"
        },
        "id": "RJLUzlgTvneT",
        "outputId": "751cdaee-594d-44aa-afc8-317daf032101"
      },
      "execution_count": null,
      "outputs": [
        {
          "output_type": "stream",
          "name": "stdout",
          "text": [
            "\n",
            "Nilai WCSS untuk tiap K:\n",
            "K=1: WCSS=250.99\n",
            "K=2: WCSS=160.66\n",
            "K=3: WCSS=137.91\n",
            "K=4: WCSS=127.62\n",
            "K=5: WCSS=121.57\n",
            "K=6: WCSS=115.84\n",
            "K=7: WCSS=112.04\n",
            "K=8: WCSS=102.96\n",
            "K=9: WCSS=97.99\n",
            "K=10: WCSS=94.57\n"
          ]
        }
      ]
    },
    {
      "cell_type": "code",
      "source": [
        "# Deteksi elbow otomatis\n",
        "knee = KneeLocator(K_range, wcss, curve=\"convex\", direction=\"decreasing\")\n",
        "elbow_k = knee.elbow\n",
        "print(f\"\\n🔍 Elbow ditemukan pada K = {elbow_k}\")\n",
        "\n"
      ],
      "metadata": {
        "colab": {
          "base_uri": "https://localhost:8080/"
        },
        "id": "YgzfkMKCzVCC",
        "outputId": "845c8046-1964-45a9-ee0f-aac75c8ef1d4"
      },
      "execution_count": null,
      "outputs": [
        {
          "output_type": "stream",
          "name": "stdout",
          "text": [
            "\n",
            "🔍 Elbow ditemukan pada K = 3\n"
          ]
        }
      ]
    },
    {
      "cell_type": "code",
      "source": [
        "# Step 6: Plot Elbow Curve\n",
        "plt.figure(figsize=(7, 4))\n",
        "plt.plot(K_range, wcss, 'bo-', linewidth=2)\n",
        "plt.axvline(x=elbow_k, color='r', linestyle='--', label=f'Elbow (K={elbow_k})')\n",
        "plt.title('Metode Elbow')\n",
        "plt.xlabel('Jumlah Cluster (K)')\n",
        "plt.ylabel('WCSS')\n",
        "plt.grid(True)\n",
        "plt.xticks(K_range)\n",
        "plt.legend()\n",
        "plt.show()\n"
      ],
      "metadata": {
        "colab": {
          "base_uri": "https://localhost:8080/",
          "height": 410
        },
        "id": "mmvjR-L5vpCr",
        "outputId": "3b7cd086-332f-4254-f839-7ac436e12e2c"
      },
      "execution_count": null,
      "outputs": [
        {
          "output_type": "display_data",
          "data": {
            "text/plain": [
              "<Figure size 700x400 with 1 Axes>"
            ],
            "image/png": "[encoded data removed]"
          },
          "metadata": {}
        }
      ]
    },
    {
      "cell_type": "code",
      "source": [
        "# Step 7: Cluster dengan K optimal\n",
        "final_kmeans = KMeans(n_clusters=elbow_k, init='k-means++', random_state=42, n_init='auto')\n",
        "cluster_labels = final_kmeans.fit_predict(data_values)\n"
      ],
      "metadata": {
        "id": "YAfEH1r2zbRK"
      },
      "execution_count": null,
      "outputs": []
    },
    {
      "cell_type": "code",
      "source": [
        "# Step 8: Tambahkan label ke dataframe asli\n",
        "df_filtered = df.loc[data.index].copy()\n",
        "df_filtered['cluster'] = cluster_labels\n"
      ],
      "metadata": {
        "id": "qD89Pq23zmK2"
      },
      "execution_count": null,
      "outputs": []
    },
    {
      "cell_type": "code",
      "source": [
        "# Step 9: Simpan ke Excel\n",
        "output_filename = 'clustered_output.xlsx'\n",
        "df_filtered.to_excel(output_filename, index=False)\n",
        "print(f\"\\n✅ Hasil disimpan ke file: {output_filename}\")\n",
        "files.download(output_filename)\n"
      ],
      "metadata": {
        "colab": {
          "base_uri": "https://localhost:8080/",
          "height": 52
        },
        "id": "8kODY1Khzo44",
        "outputId": "2598f18b-0200-4802-a570-f1ac2f814906"
      },
      "execution_count": null,
      "outputs": [
        {
          "output_type": "stream",
          "name": "stdout",
          "text": [
            "\n",
            "✅ Hasil disimpan ke file: clustered_output.xlsx\n"
          ]
        },
        {
          "output_type": "display_data",
          "data": {
            "text/plain": [
              "<IPython.core.display.Javascript object>"
            ],
            "application/javascript": [
              "\n",
              "    async function download(id, filename, size) {\n",
              "      if (!google.colab.kernel.accessAllowed) {\n",
              "        return;\n",
              "      }\n",
              "      const div = document.createElement('div');\n",
              "      const label = document.createElement('label');\n",
              "      label.textContent = `Downloading \"${filename}\": `;\n",
              "      div.appendChild(label);\n",
              "      const progress = document.createElement('progress');\n",
              "      progress.max = size;\n",
              "      div.appendChild(progress);\n",
              "      document.body.appendChild(div);\n",
              "\n",
              "      const buffers = [];\n",
              "      let downloaded = 0;\n",
              "\n",
              "      const channel = await google.colab.kernel.comms.open(id);\n",
              "      // Send a message to notify the kernel that we're ready.\n",
              "      channel.send({})\n",
              "\n",
              "      for await (const message of channel.messages) {\n",
              "        // Send a message to notify the kernel that we're ready.\n",
              "        channel.send({})\n",
              "        if (message.buffers) {\n",
              "          for (const buffer of message.buffers) {\n",
              "            buffers.push(buffer);\n",
              "            downloaded += buffer.byteLength;\n",
              "            progress.value = downloaded;\n",
              "          }\n",
              "        }\n",
              "      }\n",
              "      const blob = new Blob(buffers, {type: 'application/binary'});\n",
              "      const a = document.createElement('a');\n",
              "      a.href = window.URL.createObjectURL(blob);\n",
              "      a.download = filename;\n",
              "      div.appendChild(a);\n",
              "      a.click();\n",
              "      div.remove();\n",
              "    }\n",
              "  "
            ]
          },
          "metadata": {}
        },
        {
          "output_type": "display_data",
          "data": {
            "text/plain": [
              "<IPython.core.display.Javascript object>"
            ],
            "application/javascript": [
              "download(\"download_80c07f31-9a89-4caa-b932-463646cfd898\", \"clustered_output.xlsx\", 72169)"
            ]
          },
          "metadata": {}
        }
      ]
    }
  ]
}